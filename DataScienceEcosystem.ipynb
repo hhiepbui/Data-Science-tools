{
 "cells": [
  {
   "cell_type": "markdown",
   "id": "d7c1b32c",
   "metadata": {},
   "source": [
    "__Exercise 2: Create markdown cell with title of the notebook__"
   ]
  },
  {
   "cell_type": "markdown",
   "id": "16b37678",
   "metadata": {},
   "source": [
    "# Data Science Tools and Ecosystem"
   ]
  },
  {
   "cell_type": "markdown",
   "id": "3677d5b4",
   "metadata": {},
   "source": [
    "__Exercise 3 - Create a markdown cell for an introduction__"
   ]
  },
  {
   "cell_type": "markdown",
   "id": "06a6d26a",
   "metadata": {},
   "source": [
    "In this notebook, Data Science Tools and Ecosystem are summarized."
   ]
  },
  {
   "cell_type": "markdown",
   "id": "daa313a5",
   "metadata": {},
   "source": [
    "__Exercise 4 - Create a markdown cell to list data science languages__"
   ]
  },
  {
   "cell_type": "markdown",
   "id": "b8f94183",
   "metadata": {},
   "source": [
    "Some of the popular languages that Data Scientists use are:\n",
    "1. Python\n",
    "2. R\n",
    "3. SQL\n",
    "4. C++"
   ]
  },
  {
   "cell_type": "markdown",
   "id": "e3dd540c",
   "metadata": {},
   "source": [
    "__Exercise 5 - Create a markdown cell to list data science libraries__"
   ]
  },
  {
   "cell_type": "markdown",
   "id": "3ee52eeb",
   "metadata": {},
   "source": [
    "Some of the commonly used libraries used by Data Scientists include:\n",
    "1. Tensorflow\n",
    "2. Numpy\n",
    "3. Pandas\n",
    "4. Matplotlib\n",
    "5. SciKit-Learn"
   ]
  },
  {
   "cell_type": "markdown",
   "id": "54bab65a",
   "metadata": {},
   "source": [
    "__Exercise 6 - Create a markdown cell with a table of Data Science tools__"
   ]
  },
  {
   "cell_type": "markdown",
   "id": "22691308",
   "metadata": {},
   "source": [
    "|Data Science Tools|\n",
    "|---|\n",
    "|SAS|\n",
    "|Apache Hadoop|\n",
    "|Tensorflow|"
   ]
  },
  {
   "cell_type": "markdown",
   "id": "1b454953",
   "metadata": {},
   "source": [
    "__Exercise 7 - Create a markdown cell introducing arithmetic expression examples__"
   ]
  },
  {
   "cell_type": "markdown",
   "id": "516424df",
   "metadata": {},
   "source": [
    "### Below are a few examples of evaluating arithmetic expressions in Python."
   ]
  },
  {
   "cell_type": "markdown",
   "id": "a740ae62",
   "metadata": {},
   "source": [
    "__Exercise 8 - Create a code cell to multiply and add numbers__"
   ]
  },
  {
   "cell_type": "code",
   "execution_count": 2,
   "id": "7604beff",
   "metadata": {},
   "outputs": [
    {
     "data": {
      "text/plain": [
       "17"
      ]
     },
     "execution_count": 2,
     "metadata": {},
     "output_type": "execute_result"
    }
   ],
   "source": [
    "#This a simple arithmetic expression to mutiply then add integers\n",
    "(3*4)+5"
   ]
  },
  {
   "cell_type": "markdown",
   "id": "f017764a",
   "metadata": {},
   "source": [
    "__Exercise 9 - Create a code cell to convert minutes to hours__"
   ]
  },
  {
   "cell_type": "code",
   "execution_count": 3,
   "id": "305bcce3",
   "metadata": {},
   "outputs": [
    {
     "data": {
      "text/plain": [
       "3.3333333333333335"
      ]
     },
     "execution_count": 3,
     "metadata": {},
     "output_type": "execute_result"
    }
   ],
   "source": [
    "#This will convert 200 minutes to hours by diving by 60\n",
    "200/60"
   ]
  },
  {
   "cell_type": "markdown",
   "id": "55db0ff0",
   "metadata": {},
   "source": [
    "__Exercise 10 - Insert a markdown cell to list Objectives__"
   ]
  },
  {
   "cell_type": "markdown",
   "id": "89d83c2b",
   "metadata": {},
   "source": [
    "__Objective__\n",
    "* List popular languages for Data Science\n",
    "* List popular libraries for Data Science\n",
    "* List of well known Data Science Tools\n",
    "* How to Provide comments in the cell"
   ]
  },
  {
   "cell_type": "markdown",
   "id": "72b5da90",
   "metadata": {},
   "source": [
    "__Exercise 11 - Create a markdown cell to indicate the Author's name__"
   ]
  },
  {
   "cell_type": "markdown",
   "id": "53ee2a78",
   "metadata": {},
   "source": [
    "## Author\n",
    "Hiep Bui"
   ]
  },
  {
   "cell_type": "code",
   "execution_count": null,
   "id": "c6a88f4d",
   "metadata": {},
   "outputs": [],
   "source": []
  }
 ],
 "metadata": {
  "kernelspec": {
   "display_name": "Python 3",
   "language": "python",
   "name": "python3"
  },
  "language_info": {
   "codemirror_mode": {
    "name": "ipython",
    "version": 3
   },
   "file_extension": ".py",
   "mimetype": "text/x-python",
   "name": "python",
   "nbconvert_exporter": "python",
   "pygments_lexer": "ipython3",
   "version": "3.8.8"
  }
 },
 "nbformat": 4,
 "nbformat_minor": 5
}
